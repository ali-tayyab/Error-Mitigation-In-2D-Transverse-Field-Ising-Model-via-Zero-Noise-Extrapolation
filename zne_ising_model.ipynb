{
 "cells": [
  {
   "cell_type": "markdown",
   "id": "063cc35d",
   "metadata": {},
   "source": [
    "### **Practical Quantum Computational Advantage**\n",
    "\n",
    "Quantum computers hold the promise of performing tasks that are fundamentally beyond the reach of classical machines. However, leveraging algorithms such as Shor's algorithm requires fault-tolerant quantum computing through error correction, which is not yet achievable with current devices. This raises a critical question in the field: can the noisy intermediate-scale quantum (NISQ) devices available today already provide meaningful computational advantages or outperform classical methods for certain practical problems? Recent developments suggest that this goal is within reach. In particular, a recent study by IBM demonstrates that their 127-qubit processor, ibm_kyiv, with exceptionally long coherence times, can faithfully simulate the time evolution of complex quantum many-body systems. One of the key accomplishments of this work is the successful application of **error mitigation techniques** using a learned noise model, showing that even in the presence of significant noise and reasonably deep quantum circuits, reliable and accurate results can be obtained. This represents an important step toward realizing practically useful quantum computations and illustrates that current devices, when combined with advanced noise management strategies, can already tackle problems that challenge classical approaches.\n"
   ]
  },
  {
   "cell_type": "markdown",
   "id": "ddade4b5",
   "metadata": {},
   "source": [
    "### **Problem**   \n",
    "\n",
    "Before delving into the discussion of error suppression techniques, let us first outline the computational task under consideration. The study in [1] deals with the simulation of the real-time dynamics of a **two-dimensional transverse field Ising Hamiltonian**, given as\n",
    "$$\n",
    "\\mathcal{H} = -K \\sum_{\\langle i,j \\rangle} Z_{i}Z_{j} + g \\sum_{i} X_{i},\n",
    "$$  \n",
    "where the summation $\\langle i,j \\rangle$ denotes interactions only between nearest-neighbor sites. Here, $K$ represents the ferromagnetic coupling constant and $g$ corresponds to the transverse field strength. The time evolution under this Hamiltonian is implemented approximately by **Trotterization** of the exponential operator:  \n",
    "$$\n",
    "U(\\tau) \\approx \\Bigg(\\prod_{\\langle i,j \\rangle} e^{\\;i \\Delta \\tau K Z_{i}Z_{j}} \\; \\prod_{i} e^{-i \\Delta \\tau g X_{i}} \\Bigg)^{\\tau / \\Delta \\tau},\n",
    "$$  \n",
    "for a chosen total evolution time $\\tau$ and a Trotter step size $\\Delta \\tau$. This results in a quantum circuit composed of sequential two-qubit $R_{ZZ}(\\phi_{K})$ rotations and single-qubit $R_{X}(\\phi_{g})$ rotations, with the gate parameters connected to the physical model as follows:  \n",
    "\n",
    "$$\n",
    "\\phi_{K} = -2K \\Delta \\tau,\n",
    "$$  \n",
    "\n",
    "$$\n",
    "\\phi_{g} = 2g \\Delta \\tau.\n",
    "$$  \n",
    "\n",
    "For simplicity in later sections, we will concentrate exclusively on the parameter $\\phi_{g}$ while fixing $\\phi_{K} = -\\pi/2$. This specific choice is motivated by the fact that it reduces the complexity of the circuit decomposition into the native CNOT gates of the hardware.\n"
   ]
  },
  {
   "cell_type": "markdown",
   "id": "c5e7aea7",
   "metadata": {},
   "source": []
  }
 ],
 "metadata": {
  "language_info": {
   "name": "python"
  }
 },
 "nbformat": 4,
 "nbformat_minor": 5
}
