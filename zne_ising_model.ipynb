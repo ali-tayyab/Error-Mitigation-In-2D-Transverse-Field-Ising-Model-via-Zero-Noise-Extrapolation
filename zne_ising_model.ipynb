{
 "cells": [
  {
   "cell_type": "markdown",
   "id": "063cc35d",
   "metadata": {},
   "source": [
    "### **Practical Quantum Computational Advantage**\n",
    "\n",
    "Quantum computers hold the promise of performing tasks that are fundamentally beyond the reach of classical machines. However, leveraging algorithms such as Shor's algorithm requires fault-tolerant quantum computing through error correction, which is not yet achievable with current devices. This raises a critical question in the field: can the noisy intermediate-scale quantum (NISQ) devices available today already provide meaningful computational advantages or outperform classical methods for certain practical problems? Recent developments suggest that this goal is within reach. In particular, a recent study by IBM demonstrates that their 127-qubit processor, ibm_kyiv, with exceptionally long coherence times, can faithfully simulate the time evolution of complex quantum many-body systems. One of the key accomplishments of this work is the successful application of **error mitigation techniques** using a learned noise model, showing that even in the presence of significant noise and reasonably deep quantum circuits, reliable and accurate results can be obtained. This represents an important step toward realizing practically useful quantum computations and illustrates that current devices, when combined with advanced noise management strategies, can already tackle problems that challenge classical approaches.\n"
   ]
  },
  {
   "cell_type": "markdown",
   "id": "ddade4b5",
   "metadata": {},
   "source": [
    "### **Problem**   \n",
    "\n",
    "Before delving into the discussion of error suppression techniques, let us first outline the computational task under consideration. The study in [1] deals with the simulation of the real-time dynamics of a **two-dimensional transverse field Ising Hamiltonian**, given as\n",
    "$$\n",
    "\\mathcal{H} = -K \\sum_{\\langle i,j \\rangle} Z_{i}Z_{j} + g \\sum_{i} X_{i},\n",
    "$$  \n",
    "where the summation $\\langle i,j \\rangle$ denotes interactions only between nearest-neighbor sites. Here, $K$ represents the ferromagnetic coupling constant and $g$ corresponds to the transverse field strength. The time evolution under this Hamiltonian is implemented approximately by **Trotterization** of the exponential operator:  \n",
    "$$\n",
    "U(\\tau) \\approx \\Bigg(\\prod_{\\langle i,j \\rangle} e^{\\;i \\Delta \\tau K Z_{i}Z_{j}} \\; \\prod_{i} e^{-i \\Delta \\tau g X_{i}} \\Bigg)^{\\tau / \\Delta \\tau},\n",
    "$$  \n",
    "for a chosen total evolution time $\\tau$ and a Trotter step size $\\Delta \\tau$. This results in a quantum circuit composed of sequential two-qubit $R_{ZZ}(\\phi_{K})$ rotations and single-qubit $R_{X}(\\phi_{g})$ rotations, with the gate parameters connected to the physical model as follows:  \n",
    "\n",
    "$$\n",
    "\\phi_{K} = -2K \\Delta \\tau,\n",
    "$$  \n",
    "\n",
    "$$\n",
    "\\phi_{g} = 2g \\Delta \\tau.\n",
    "$$  \n",
    "\n",
    "For simplicity in later sections, we will concentrate exclusively on the parameter $\\phi_{g}$ while fixing $\\phi_{K} = -\\pi/2$. This specific choice is motivated by the fact that it reduces the complexity of the circuit decomposition into the native CNOT gates of the hardware.\n"
   ]
  },
  {
   "cell_type": "markdown",
   "id": "c5e7aea7",
   "metadata": {},
   "source": [
    "### Simulation with Noise  \n",
    "\n",
    "When analyzing the dynamics of the circuit, the difficulty of performing a classical simulation is governed by the parameter $\\phi_{g}$. At the special points $\\phi_{g} = 0$ and $\\phi_{g} = \\pi/2$, the model simplifies to cases that can be solved directly without requiring heavy computation. To explore the non-trivial region between these two limits, we track the behavior of a local observable, specifically $\\langle Z_{4} \\rangle$. Since the actual device involves 127 qubits, simulating the full system is out of reach on a classical machine. Instead, we restrict ourselves to a reduced model consisting of only 9 qubits arranged on a $3 \\times 3$ square lattice, where couplings are only between nearest neighbors. This scaled-down setup still preserves the structure of the problem while remaining computationally manageable.  \n",
    "\n",
    "To incorporate noise, we apply a **depolarizing channel** after each gate execution in the circuit. Intuitively, this channel describes the situation where, with total probability $p$, the qubit state is randomly perturbed by one of the Pauli operations $\\{X, Y, Z\\}$, each occurring with probability $p/3$. From a theoretical standpoint, this randomness can be described using Kraus operators, which capture the mixing of different quantum trajectories introduced by the noise. Because of this probabilistic blending of outcomes, the simulation cannot rely on a pure-state backend. Instead, a **mixed-state simulator** is required in order to correctly capture the effects of the depolarizing process on the system’s evolution.  \n"
   ]
  },
  {
   "cell_type": "code",
   "execution_count": 12,
   "id": "0b3ed863",
   "metadata": {},
   "outputs": [],
   "source": [
    "import pennylane as qml\n",
    "import jax\n",
    "import jax.numpy as jnp\n",
    "import matplotlib.pyplot as plt\n",
    "jax.config.update(\"jax_enable_x64\", True)\n",
    "jax.config.update('jax_platform_name', 'cpu')\n",
    "\n",
    "n_wires = 9\n",
    "# Describe noise\n",
    "noise_gate = qml.DepolarizingChannel\n",
    "p = 0.005\n",
    "\n",
    "# Load devices\n",
    "dev_ideal = qml.device(\"default.mixed\", wires=n_wires)\n",
    "dev_noisy = qml.transforms.insert(dev_ideal, noise_gate, p, position=\"all\")\n",
    "\n",
    "# 3x3 grid with nearest neighbors\n",
    "connections = [(0, 1), (1, 2),\n",
    "               (3, 4), (4, 5),\n",
    "               (6, 7), (7, 8),\n",
    "               (0, 3), (3, 6),\n",
    "               (1, 4), (4, 7),\n",
    "               (2, 5), (5, 8)]\n",
    "\n",
    "def time_evolution(theta_h, n_layers = 10, obs = qml.PauliZ(4)):\n",
    "    for _ in range(n_layers):\n",
    "        for i, j in connections:\n",
    "            qml.IsingZZ(-jnp.pi/2, wires=(i, j))\n",
    "        for i in range(n_wires):\n",
    "            qml.RX(theta_h, wires=i)\n",
    "    return qml.expval(obs)\n",
    "\n",
    "qnode_ideal = qml.QNode(time_evolution, dev_ideal, interface=\"jax\")\n",
    "qnode_noisy = qml.QNode(time_evolution, dev_noisy, interface=\"jax\")"
   ]
  },
  {
   "cell_type": "code",
   "execution_count": null,
   "id": "20a993c5",
   "metadata": {},
   "outputs": [
    {
     "name": "stdout",
     "output_type": "stream",
     "text": [
      "[(0, 1), (0, 3), (1, 2), (1, 4), (2, 5), (3, 4), (3, 6), (4, 5), (4, 7), (5, 8), (6, 7), (7, 8)]\n"
     ]
    }
   ],
   "source": [
    "# import pennylane as qml\n",
    "# import jax\n",
    "# import jax.numpy as jnp\n",
    "# import matplotlib.pyplot as plt\n",
    "# jax.config.update(\"jax_enable_x64\", True)\n",
    "# jax.config.update('jax_platform_name', 'cpu')\n",
    "\n",
    "# # ---------------------------\n",
    "# # Grid and device setup\n",
    "# # ---------------------------\n",
    "# N = 3                  # grid size (5x5)\n",
    "# n_wires = N * N        # total qubits = 25\n",
    "\n",
    "# # Describe noise\n",
    "# noise_gate = qml.DepolarizingChannel\n",
    "# p = 0.005\n",
    "\n",
    "# # Load devices\n",
    "# dev_ideal = qml.device(\"lightning.qubit\", wires=n_wires)\n",
    "# dev_noisy = qml.transforms.insert(dev_ideal, noise_gate, p, position=\"all\")\n",
    "\n",
    "# # ---------------------------\n",
    "# # Define nearest-neighbor connections on 5x5 lattice\n",
    "# # ---------------------------\n",
    "# def idx(r, c, N):\n",
    "#     \"\"\"Row-major index for site (r, c).\"\"\"\n",
    "#     return r * N + c\n",
    "\n",
    "# connections = []\n",
    "# for r in range(N):\n",
    "#     for c in range(N):\n",
    "#         w = idx(r, c, N)\n",
    "#         if c + 1 < N:   # right neighbor\n",
    "#             connections.append((w, idx(r, c+1, N)))\n",
    "#         if r + 1 < N:   # down neighbor\n",
    "#             connections.append((w, idx(r+1, c, N)))\n",
    "\n",
    "# # ---------------------------\n",
    "# # Circuit definition\n",
    "# # ---------------------------\n",
    "# def time_evolution(theta_h, n_layers=10, obs=qml.PauliZ(4)):\n",
    "#     for _ in range(n_layers):\n",
    "#         # ZZ interaction layer\n",
    "#         for i, j in connections:\n",
    "#             qml.IsingZZ(-jnp.pi/2, wires=(i, j))\n",
    "#         # RX transverse-field layer\n",
    "#         for i in range(n_wires):\n",
    "#             qml.RX(theta_h, wires=i)\n",
    "#     return qml.expval(obs)\n",
    "\n",
    "# # ---------------------------\n",
    "# # QNodes\n",
    "# # ---------------------------\n",
    "# qnode_ideal = qml.QNode(time_evolution, dev_ideal, interface=\"jax\")\n",
    "# qnode_noisy = qml.QNode(time_evolution, dev_noisy, interface=\"jax\")\n",
    "# print(connections)"
   ]
  },
  {
   "cell_type": "markdown",
   "id": "d5f6dbbb",
   "metadata": {},
   "source": [
    "We now simulate the expectation value of the observable with and without noise on the $4 \\times 4$ lattice. Since the `IsingZZ` gate is not natively available on the `default.mixed` device, PennyLane automatically decomposes it into a supported gate set. After this decomposition, depolarizing noise channels are inserted following each gate, ensuring that the noise model acts consistently across the full circuit. To efficiently evaluate the observable over a range of transverse field angles $\\theta_h$, we employ `jax.vmap`, which vectorizes the computations and significantly accelerates the evaluation process."
   ]
  },
  {
   "cell_type": "code",
   "execution_count": 13,
   "id": "cff5aed4",
   "metadata": {},
   "outputs": [
    {
     "data": {
      "image/png": "[encoded data removed]",
      "text/plain": [
       "<Figure size 640x480 with 1 Axes>"
      ]
     },
     "metadata": {},
     "output_type": "display_data"
    }
   ],
   "source": [
    "thetas = jnp.linspace(0, jnp.pi/2, 50)\n",
    "\n",
    "res_ideal = jax.vmap(qnode_ideal)(thetas)\n",
    "res_noisy = jax.vmap(qnode_noisy)(thetas)\n",
    "\n",
    "plt.plot(thetas, res_ideal, label=\"exact\")\n",
    "plt.plot(thetas, res_noisy, label=\"noisy\")\n",
    "plt.xticks([0, jnp.pi/8, jnp.pi/4, 3*jnp.pi/8, jnp.pi/2], [\"0\", \"$\\\\pi$/8\", \"$\\\\pi/4$\", \"$3\\\\pi/4$\", \"$\\\\pi/2$\"])\n",
    "plt.xlabel(\"$\\\\theta_h$\")\n",
    "plt.ylabel(\"$\\\\langle Z_4 \\\\rangle$\")\n",
    "plt.legend()\n",
    "plt.show()"
   ]
  },
  {
   "cell_type": "markdown",
   "id": "de45bb59",
   "metadata": {},
   "source": [
    "### **Error Mitigation with Zero Noise Extrapolation**  \n",
    "\n",
    "To reduce the effects of hardware noise, we can implement an error mitigation technique known as **Zero Noise Extrapolation (ZNE)**. This approach allows us to recover more reliable expectation values by combining noisy quantum results with classical post-processing. The central idea is the following: suppose there exists an ideal function $F$ that represents the exact expectation value in the absence of noise. In practice, what is measured is a noisy approximation, denoted by $F'$. By introducing a **noise amplification parameter** $G$, we can systematically increase the noise level during circuit execution. The case $G=1$ corresponds to the natural noise of the device. We then evaluate $F'$ at several values of $G > 1$, which gives us a collection of results at progressively higher noise levels. From this dataset, we fit an appropriate curve and extrapolate backwards to $G=0$, the point corresponding to an ideal noiseless device. The extrapolated value provides a mitigated estimate of the true expectation value.  \n",
    "\n",
    "To make this process possible, we need a method to scale the noise in our circuits. One common strategy is to deliberately extend the circuit depth—for instance, by replacing a gate with multiple equivalent copies—so that the logical operation is unchanged but the accumulated noise increases. In this way, we obtain the controllable knob required for zero noise extrapolation.\n"
   ]
  },
  {
   "cell_type": "markdown",
   "id": "9857689e",
   "metadata": {},
   "source": [
    "#### **Noise-Aware Zero Noise Extrapolation** \n",
    "\n",
    "A more advanced variant of ZNE can be carried out when we have an explicit model for the noise affecting the device. The general strategy is to first identify the parameters of a chosen noise model that characterizes the hardware. In principle, once such a model is available, one could attempt to cancel errors directly through probabilistic error cancellation. While this method is conceptually powerful, it typically leads to an exponential increase in the number of required samples, making it impractical for large systems. Instead of attempting full cancellation, we can use the information from the noise model to deliberately amplify the noise in a controlled manner. This creates the required family of noisy circuits for zero noise extrapolation. In our case, the setup is simpler because the noise process in the simulation is fully known and under complete control. This allows us to introduce a tunable **gain factor** $G$ that rescales the error probabilities of the noise channel. For demonstration, we can consider $G \\in \\{1.0, \\, 1.2, \\, 1.6\\}$, where $G=1$ corresponds to the baseline noise level.  \n",
    "\n",
    "Implementing this in PennyLane is straightforward: we define multiple noisy devices, each with adjusted noise parameters according to the chosen gain factors. Running the same circuit on these devices then produces the dataset required to carry out the extrapolation back to the zero-noise limit. "
   ]
  },
  {
   "cell_type": "code",
   "execution_count": null,
   "id": "bd9ac467",
   "metadata": {},
   "outputs": [],
   "source": [
    "dev_noisy1 = qml.transforms.insert(dev_ideal, noise_gate, p*1.2, position=\"all\")\n",
    "dev_noisy2 = qml.transforms.insert(dev_ideal, noise_gate, p*1.6, position=\"all\")\n",
    "\n",
    "qnode_noisy1 = qml.QNode(time_evolution, dev_noisy1, interface=\"jax\")\n",
    "qnode_noisy2 = qml.QNode(time_evolution, dev_noisy2, interface=\"jax\")\n",
    "\n",
    "res_noisy1 = jax.vmap(qnode_noisy1)(thetas)\n",
    "res_noisy2 = jax.vmap(qnode_noisy2)(thetas)"
   ]
  },
  {
   "cell_type": "markdown",
   "id": "51365301",
   "metadata": {},
   "source": [
    "We can take these results and simply extrapolate back to G = 0 with a polynomial fit and plot the nosidy, exact and extrap"
   ]
  }
 ],
 "metadata": {
  "kernelspec": {
   "display_name": "cwp",
   "language": "python",
   "name": "python3"
  },
  "language_info": {
   "codemirror_mode": {
    "name": "ipython",
    "version": 3
   },
   "file_extension": ".py",
   "mimetype": "text/x-python",
   "name": "python",
   "nbconvert_exporter": "python",
   "pygments_lexer": "ipython3",
   "version": "3.10.18"
  }
 },
 "nbformat": 4,
 "nbformat_minor": 5
}
